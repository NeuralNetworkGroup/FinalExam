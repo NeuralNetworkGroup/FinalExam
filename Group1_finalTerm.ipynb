{
  "nbformat": 4,
  "nbformat_minor": 0,
  "metadata": {
    "colab": {
      "provenance": []
    },
    "kernelspec": {
      "name": "python3",
      "display_name": "Python 3"
    },
    "language_info": {
      "name": "python"
    }
  },
  "cells": [
    {
      "cell_type": "markdown",
      "source": [
        "**Wine Quality Data Set – Red Wine**"
      ],
      "metadata": {
        "id": "ak6oYTb2NjrK"
      }
    },
    {
      "cell_type": "markdown",
      "source": [
        "Import Libraries"
      ],
      "metadata": {
        "id": "2CG4v3oEOKXm"
      }
    },
    {
      "cell_type": "code",
      "source": [
        "import numpy as np\n",
        "import pandas as pd\n",
        "import seaborn as sns\n",
        "from matplotlib import pyplot as plt"
      ],
      "metadata": {
        "id": "4Qs81b1oORti"
      },
      "execution_count": null,
      "outputs": []
    },
    {
      "cell_type": "markdown",
      "source": [
        "Loading Dataset"
      ],
      "metadata": {
        "id": "s5yrbSIBPD_x"
      }
    },
    {
      "cell_type": "code",
      "source": [
        "dataset = pd.read_csv('/content/winequality-red.csv',sep=';')"
      ],
      "metadata": {
        "id": "m6rWo7kwOZ9X"
      },
      "execution_count": null,
      "outputs": []
    },
    {
      "cell_type": "markdown",
      "source": [
        "Dataset"
      ],
      "metadata": {
        "id": "FaND4kvAPI2t"
      }
    },
    {
      "cell_type": "code",
      "source": [
        "dataset.head()"
      ],
      "metadata": {
        "colab": {
          "base_uri": "https://localhost:8080/",
          "height": 206
        },
        "id": "VrqehlbIPK16",
        "outputId": "36c75359-5b98-4175-e866-96f3fe0ced8f"
      },
      "execution_count": null,
      "outputs": [
        {
          "output_type": "execute_result",
          "data": {
            "text/plain": [
              "   fixed acidity  volatile acidity  citric acid  residual sugar  chlorides  \\\n",
              "0            7.4              0.70         0.00             1.9      0.076   \n",
              "1            7.8              0.88         0.00             2.6      0.098   \n",
              "2            7.8              0.76         0.04             2.3      0.092   \n",
              "3           11.2              0.28         0.56             1.9      0.075   \n",
              "4            7.4              0.70         0.00             1.9      0.076   \n",
              "\n",
              "   free sulfur dioxide  total sulfur dioxide  density    pH  sulphates  \\\n",
              "0                 11.0                  34.0   0.9978  3.51       0.56   \n",
              "1                 25.0                  67.0   0.9968  3.20       0.68   \n",
              "2                 15.0                  54.0   0.9970  3.26       0.65   \n",
              "3                 17.0                  60.0   0.9980  3.16       0.58   \n",
              "4                 11.0                  34.0   0.9978  3.51       0.56   \n",
              "\n",
              "   alcohol  quality  \n",
              "0      9.4        5  \n",
              "1      9.8        5  \n",
              "2      9.8        5  \n",
              "3      9.8        6  \n",
              "4      9.4        5  "
            ],
            "text/html": [
              "\n",
              "  <div id=\"df-b034efb1-2ce6-40b8-a158-a76b1f93acaa\">\n",
              "    <div class=\"colab-df-container\">\n",
              "      <div>\n",
              "<style scoped>\n",
              "    .dataframe tbody tr th:only-of-type {\n",
              "        vertical-align: middle;\n",
              "    }\n",
              "\n",
              "    .dataframe tbody tr th {\n",
              "        vertical-align: top;\n",
              "    }\n",
              "\n",
              "    .dataframe thead th {\n",
              "        text-align: right;\n",
              "    }\n",
              "</style>\n",
              "<table border=\"1\" class=\"dataframe\">\n",
              "  <thead>\n",
              "    <tr style=\"text-align: right;\">\n",
              "      <th></th>\n",
              "      <th>fixed acidity</th>\n",
              "      <th>volatile acidity</th>\n",
              "      <th>citric acid</th>\n",
              "      <th>residual sugar</th>\n",
              "      <th>chlorides</th>\n",
              "      <th>free sulfur dioxide</th>\n",
              "      <th>total sulfur dioxide</th>\n",
              "      <th>density</th>\n",
              "      <th>pH</th>\n",
              "      <th>sulphates</th>\n",
              "      <th>alcohol</th>\n",
              "      <th>quality</th>\n",
              "    </tr>\n",
              "  </thead>\n",
              "  <tbody>\n",
              "    <tr>\n",
              "      <th>0</th>\n",
              "      <td>7.4</td>\n",
              "      <td>0.70</td>\n",
              "      <td>0.00</td>\n",
              "      <td>1.9</td>\n",
              "      <td>0.076</td>\n",
              "      <td>11.0</td>\n",
              "      <td>34.0</td>\n",
              "      <td>0.9978</td>\n",
              "      <td>3.51</td>\n",
              "      <td>0.56</td>\n",
              "      <td>9.4</td>\n",
              "      <td>5</td>\n",
              "    </tr>\n",
              "    <tr>\n",
              "      <th>1</th>\n",
              "      <td>7.8</td>\n",
              "      <td>0.88</td>\n",
              "      <td>0.00</td>\n",
              "      <td>2.6</td>\n",
              "      <td>0.098</td>\n",
              "      <td>25.0</td>\n",
              "      <td>67.0</td>\n",
              "      <td>0.9968</td>\n",
              "      <td>3.20</td>\n",
              "      <td>0.68</td>\n",
              "      <td>9.8</td>\n",
              "      <td>5</td>\n",
              "    </tr>\n",
              "    <tr>\n",
              "      <th>2</th>\n",
              "      <td>7.8</td>\n",
              "      <td>0.76</td>\n",
              "      <td>0.04</td>\n",
              "      <td>2.3</td>\n",
              "      <td>0.092</td>\n",
              "      <td>15.0</td>\n",
              "      <td>54.0</td>\n",
              "      <td>0.9970</td>\n",
              "      <td>3.26</td>\n",
              "      <td>0.65</td>\n",
              "      <td>9.8</td>\n",
              "      <td>5</td>\n",
              "    </tr>\n",
              "    <tr>\n",
              "      <th>3</th>\n",
              "      <td>11.2</td>\n",
              "      <td>0.28</td>\n",
              "      <td>0.56</td>\n",
              "      <td>1.9</td>\n",
              "      <td>0.075</td>\n",
              "      <td>17.0</td>\n",
              "      <td>60.0</td>\n",
              "      <td>0.9980</td>\n",
              "      <td>3.16</td>\n",
              "      <td>0.58</td>\n",
              "      <td>9.8</td>\n",
              "      <td>6</td>\n",
              "    </tr>\n",
              "    <tr>\n",
              "      <th>4</th>\n",
              "      <td>7.4</td>\n",
              "      <td>0.70</td>\n",
              "      <td>0.00</td>\n",
              "      <td>1.9</td>\n",
              "      <td>0.076</td>\n",
              "      <td>11.0</td>\n",
              "      <td>34.0</td>\n",
              "      <td>0.9978</td>\n",
              "      <td>3.51</td>\n",
              "      <td>0.56</td>\n",
              "      <td>9.4</td>\n",
              "      <td>5</td>\n",
              "    </tr>\n",
              "  </tbody>\n",
              "</table>\n",
              "</div>\n",
              "      <button class=\"colab-df-convert\" onclick=\"convertToInteractive('df-b034efb1-2ce6-40b8-a158-a76b1f93acaa')\"\n",
              "              title=\"Convert this dataframe to an interactive table.\"\n",
              "              style=\"display:none;\">\n",
              "        \n",
              "  <svg xmlns=\"http://www.w3.org/2000/svg\" height=\"24px\"viewBox=\"0 0 24 24\"\n",
              "       width=\"24px\">\n",
              "    <path d=\"M0 0h24v24H0V0z\" fill=\"none\"/>\n",
              "    <path d=\"M18.56 5.44l.94 2.06.94-2.06 2.06-.94-2.06-.94-.94-2.06-.94 2.06-2.06.94zm-11 1L8.5 8.5l.94-2.06 2.06-.94-2.06-.94L8.5 2.5l-.94 2.06-2.06.94zm10 10l.94 2.06.94-2.06 2.06-.94-2.06-.94-.94-2.06-.94 2.06-2.06.94z\"/><path d=\"M17.41 7.96l-1.37-1.37c-.4-.4-.92-.59-1.43-.59-.52 0-1.04.2-1.43.59L10.3 9.45l-7.72 7.72c-.78.78-.78 2.05 0 2.83L4 21.41c.39.39.9.59 1.41.59.51 0 1.02-.2 1.41-.59l7.78-7.78 2.81-2.81c.8-.78.8-2.07 0-2.86zM5.41 20L4 18.59l7.72-7.72 1.47 1.35L5.41 20z\"/>\n",
              "  </svg>\n",
              "      </button>\n",
              "      \n",
              "  <style>\n",
              "    .colab-df-container {\n",
              "      display:flex;\n",
              "      flex-wrap:wrap;\n",
              "      gap: 12px;\n",
              "    }\n",
              "\n",
              "    .colab-df-convert {\n",
              "      background-color: #E8F0FE;\n",
              "      border: none;\n",
              "      border-radius: 50%;\n",
              "      cursor: pointer;\n",
              "      display: none;\n",
              "      fill: #1967D2;\n",
              "      height: 32px;\n",
              "      padding: 0 0 0 0;\n",
              "      width: 32px;\n",
              "    }\n",
              "\n",
              "    .colab-df-convert:hover {\n",
              "      background-color: #E2EBFA;\n",
              "      box-shadow: 0px 1px 2px rgba(60, 64, 67, 0.3), 0px 1px 3px 1px rgba(60, 64, 67, 0.15);\n",
              "      fill: #174EA6;\n",
              "    }\n",
              "\n",
              "    [theme=dark] .colab-df-convert {\n",
              "      background-color: #3B4455;\n",
              "      fill: #D2E3FC;\n",
              "    }\n",
              "\n",
              "    [theme=dark] .colab-df-convert:hover {\n",
              "      background-color: #434B5C;\n",
              "      box-shadow: 0px 1px 3px 1px rgba(0, 0, 0, 0.15);\n",
              "      filter: drop-shadow(0px 1px 2px rgba(0, 0, 0, 0.3));\n",
              "      fill: #FFFFFF;\n",
              "    }\n",
              "  </style>\n",
              "\n",
              "      <script>\n",
              "        const buttonEl =\n",
              "          document.querySelector('#df-b034efb1-2ce6-40b8-a158-a76b1f93acaa button.colab-df-convert');\n",
              "        buttonEl.style.display =\n",
              "          google.colab.kernel.accessAllowed ? 'block' : 'none';\n",
              "\n",
              "        async function convertToInteractive(key) {\n",
              "          const element = document.querySelector('#df-b034efb1-2ce6-40b8-a158-a76b1f93acaa');\n",
              "          const dataTable =\n",
              "            await google.colab.kernel.invokeFunction('convertToInteractive',\n",
              "                                                     [key], {});\n",
              "          if (!dataTable) return;\n",
              "\n",
              "          const docLinkHtml = 'Like what you see? Visit the ' +\n",
              "            '<a target=\"_blank\" href=https://colab.research.google.com/notebooks/data_table.ipynb>data table notebook</a>'\n",
              "            + ' to learn more about interactive tables.';\n",
              "          element.innerHTML = '';\n",
              "          dataTable['output_type'] = 'display_data';\n",
              "          await google.colab.output.renderOutput(dataTable, element);\n",
              "          const docLink = document.createElement('div');\n",
              "          docLink.innerHTML = docLinkHtml;\n",
              "          element.appendChild(docLink);\n",
              "        }\n",
              "      </script>\n",
              "    </div>\n",
              "  </div>\n",
              "  "
            ]
          },
          "metadata": {},
          "execution_count": 72
        }
      ]
    },
    {
      "cell_type": "markdown",
      "source": [
        "Preliminary Data Analysis"
      ],
      "metadata": {
        "id": "J7a3_ao7RwGF"
      }
    },
    {
      "cell_type": "code",
      "source": [
        "#printing the information about the dataframe\n",
        "dataset.info()"
      ],
      "metadata": {
        "id": "MGX_5Ea_Ryos",
        "colab": {
          "base_uri": "https://localhost:8080/"
        },
        "outputId": "01feadcd-56c1-43a8-86ab-f13c3825ffbf"
      },
      "execution_count": null,
      "outputs": [
        {
          "output_type": "stream",
          "name": "stdout",
          "text": [
            "<class 'pandas.core.frame.DataFrame'>\n",
            "RangeIndex: 1599 entries, 0 to 1598\n",
            "Data columns (total 12 columns):\n",
            " #   Column                Non-Null Count  Dtype  \n",
            "---  ------                --------------  -----  \n",
            " 0   fixed acidity         1599 non-null   float64\n",
            " 1   volatile acidity      1599 non-null   float64\n",
            " 2   citric acid           1599 non-null   float64\n",
            " 3   residual sugar        1599 non-null   float64\n",
            " 4   chlorides             1599 non-null   float64\n",
            " 5   free sulfur dioxide   1599 non-null   float64\n",
            " 6   total sulfur dioxide  1599 non-null   float64\n",
            " 7   density               1599 non-null   float64\n",
            " 8   pH                    1599 non-null   float64\n",
            " 9   sulphates             1599 non-null   float64\n",
            " 10  alcohol               1599 non-null   float64\n",
            " 11  quality               1599 non-null   int64  \n",
            "dtypes: float64(11), int64(1)\n",
            "memory usage: 150.0 KB\n"
          ]
        }
      ]
    },
    {
      "cell_type": "code",
      "source": [
        "#printing description of the data in the dataframe\n",
        "dataset.describe()"
      ],
      "metadata": {
        "colab": {
          "base_uri": "https://localhost:8080/",
          "height": 362
        },
        "id": "vZLVjtxDSgnN",
        "outputId": "a9b2d0d7-97a5-4d8a-cf4e-1d8897ddcf74"
      },
      "execution_count": null,
      "outputs": [
        {
          "output_type": "execute_result",
          "data": {
            "text/plain": [
              "       fixed acidity  volatile acidity  citric acid  residual sugar  \\\n",
              "count    1599.000000       1599.000000  1599.000000     1599.000000   \n",
              "mean        8.319637          0.527821     0.270976        2.538806   \n",
              "std         1.741096          0.179060     0.194801        1.409928   \n",
              "min         4.600000          0.120000     0.000000        0.900000   \n",
              "25%         7.100000          0.390000     0.090000        1.900000   \n",
              "50%         7.900000          0.520000     0.260000        2.200000   \n",
              "75%         9.200000          0.640000     0.420000        2.600000   \n",
              "max        15.900000          1.580000     1.000000       15.500000   \n",
              "\n",
              "         chlorides  free sulfur dioxide  total sulfur dioxide      density  \\\n",
              "count  1599.000000          1599.000000           1599.000000  1599.000000   \n",
              "mean      0.087467            15.874922             46.467792     0.996747   \n",
              "std       0.047065            10.460157             32.895324     0.001887   \n",
              "min       0.012000             1.000000              6.000000     0.990070   \n",
              "25%       0.070000             7.000000             22.000000     0.995600   \n",
              "50%       0.079000            14.000000             38.000000     0.996750   \n",
              "75%       0.090000            21.000000             62.000000     0.997835   \n",
              "max       0.611000            72.000000            289.000000     1.003690   \n",
              "\n",
              "                pH    sulphates      alcohol      quality  \n",
              "count  1599.000000  1599.000000  1599.000000  1599.000000  \n",
              "mean      3.311113     0.658149    10.422983     5.636023  \n",
              "std       0.154386     0.169507     1.065668     0.807569  \n",
              "min       2.740000     0.330000     8.400000     3.000000  \n",
              "25%       3.210000     0.550000     9.500000     5.000000  \n",
              "50%       3.310000     0.620000    10.200000     6.000000  \n",
              "75%       3.400000     0.730000    11.100000     6.000000  \n",
              "max       4.010000     2.000000    14.900000     8.000000  "
            ],
            "text/html": [
              "\n",
              "  <div id=\"df-23a229c4-bbf8-4c1f-a8aa-97a6b8205ebc\">\n",
              "    <div class=\"colab-df-container\">\n",
              "      <div>\n",
              "<style scoped>\n",
              "    .dataframe tbody tr th:only-of-type {\n",
              "        vertical-align: middle;\n",
              "    }\n",
              "\n",
              "    .dataframe tbody tr th {\n",
              "        vertical-align: top;\n",
              "    }\n",
              "\n",
              "    .dataframe thead th {\n",
              "        text-align: right;\n",
              "    }\n",
              "</style>\n",
              "<table border=\"1\" class=\"dataframe\">\n",
              "  <thead>\n",
              "    <tr style=\"text-align: right;\">\n",
              "      <th></th>\n",
              "      <th>fixed acidity</th>\n",
              "      <th>volatile acidity</th>\n",
              "      <th>citric acid</th>\n",
              "      <th>residual sugar</th>\n",
              "      <th>chlorides</th>\n",
              "      <th>free sulfur dioxide</th>\n",
              "      <th>total sulfur dioxide</th>\n",
              "      <th>density</th>\n",
              "      <th>pH</th>\n",
              "      <th>sulphates</th>\n",
              "      <th>alcohol</th>\n",
              "      <th>quality</th>\n",
              "    </tr>\n",
              "  </thead>\n",
              "  <tbody>\n",
              "    <tr>\n",
              "      <th>count</th>\n",
              "      <td>1599.000000</td>\n",
              "      <td>1599.000000</td>\n",
              "      <td>1599.000000</td>\n",
              "      <td>1599.000000</td>\n",
              "      <td>1599.000000</td>\n",
              "      <td>1599.000000</td>\n",
              "      <td>1599.000000</td>\n",
              "      <td>1599.000000</td>\n",
              "      <td>1599.000000</td>\n",
              "      <td>1599.000000</td>\n",
              "      <td>1599.000000</td>\n",
              "      <td>1599.000000</td>\n",
              "    </tr>\n",
              "    <tr>\n",
              "      <th>mean</th>\n",
              "      <td>8.319637</td>\n",
              "      <td>0.527821</td>\n",
              "      <td>0.270976</td>\n",
              "      <td>2.538806</td>\n",
              "      <td>0.087467</td>\n",
              "      <td>15.874922</td>\n",
              "      <td>46.467792</td>\n",
              "      <td>0.996747</td>\n",
              "      <td>3.311113</td>\n",
              "      <td>0.658149</td>\n",
              "      <td>10.422983</td>\n",
              "      <td>5.636023</td>\n",
              "    </tr>\n",
              "    <tr>\n",
              "      <th>std</th>\n",
              "      <td>1.741096</td>\n",
              "      <td>0.179060</td>\n",
              "      <td>0.194801</td>\n",
              "      <td>1.409928</td>\n",
              "      <td>0.047065</td>\n",
              "      <td>10.460157</td>\n",
              "      <td>32.895324</td>\n",
              "      <td>0.001887</td>\n",
              "      <td>0.154386</td>\n",
              "      <td>0.169507</td>\n",
              "      <td>1.065668</td>\n",
              "      <td>0.807569</td>\n",
              "    </tr>\n",
              "    <tr>\n",
              "      <th>min</th>\n",
              "      <td>4.600000</td>\n",
              "      <td>0.120000</td>\n",
              "      <td>0.000000</td>\n",
              "      <td>0.900000</td>\n",
              "      <td>0.012000</td>\n",
              "      <td>1.000000</td>\n",
              "      <td>6.000000</td>\n",
              "      <td>0.990070</td>\n",
              "      <td>2.740000</td>\n",
              "      <td>0.330000</td>\n",
              "      <td>8.400000</td>\n",
              "      <td>3.000000</td>\n",
              "    </tr>\n",
              "    <tr>\n",
              "      <th>25%</th>\n",
              "      <td>7.100000</td>\n",
              "      <td>0.390000</td>\n",
              "      <td>0.090000</td>\n",
              "      <td>1.900000</td>\n",
              "      <td>0.070000</td>\n",
              "      <td>7.000000</td>\n",
              "      <td>22.000000</td>\n",
              "      <td>0.995600</td>\n",
              "      <td>3.210000</td>\n",
              "      <td>0.550000</td>\n",
              "      <td>9.500000</td>\n",
              "      <td>5.000000</td>\n",
              "    </tr>\n",
              "    <tr>\n",
              "      <th>50%</th>\n",
              "      <td>7.900000</td>\n",
              "      <td>0.520000</td>\n",
              "      <td>0.260000</td>\n",
              "      <td>2.200000</td>\n",
              "      <td>0.079000</td>\n",
              "      <td>14.000000</td>\n",
              "      <td>38.000000</td>\n",
              "      <td>0.996750</td>\n",
              "      <td>3.310000</td>\n",
              "      <td>0.620000</td>\n",
              "      <td>10.200000</td>\n",
              "      <td>6.000000</td>\n",
              "    </tr>\n",
              "    <tr>\n",
              "      <th>75%</th>\n",
              "      <td>9.200000</td>\n",
              "      <td>0.640000</td>\n",
              "      <td>0.420000</td>\n",
              "      <td>2.600000</td>\n",
              "      <td>0.090000</td>\n",
              "      <td>21.000000</td>\n",
              "      <td>62.000000</td>\n",
              "      <td>0.997835</td>\n",
              "      <td>3.400000</td>\n",
              "      <td>0.730000</td>\n",
              "      <td>11.100000</td>\n",
              "      <td>6.000000</td>\n",
              "    </tr>\n",
              "    <tr>\n",
              "      <th>max</th>\n",
              "      <td>15.900000</td>\n",
              "      <td>1.580000</td>\n",
              "      <td>1.000000</td>\n",
              "      <td>15.500000</td>\n",
              "      <td>0.611000</td>\n",
              "      <td>72.000000</td>\n",
              "      <td>289.000000</td>\n",
              "      <td>1.003690</td>\n",
              "      <td>4.010000</td>\n",
              "      <td>2.000000</td>\n",
              "      <td>14.900000</td>\n",
              "      <td>8.000000</td>\n",
              "    </tr>\n",
              "  </tbody>\n",
              "</table>\n",
              "</div>\n",
              "      <button class=\"colab-df-convert\" onclick=\"convertToInteractive('df-23a229c4-bbf8-4c1f-a8aa-97a6b8205ebc')\"\n",
              "              title=\"Convert this dataframe to an interactive table.\"\n",
              "              style=\"display:none;\">\n",
              "        \n",
              "  <svg xmlns=\"http://www.w3.org/2000/svg\" height=\"24px\"viewBox=\"0 0 24 24\"\n",
              "       width=\"24px\">\n",
              "    <path d=\"M0 0h24v24H0V0z\" fill=\"none\"/>\n",
              "    <path d=\"M18.56 5.44l.94 2.06.94-2.06 2.06-.94-2.06-.94-.94-2.06-.94 2.06-2.06.94zm-11 1L8.5 8.5l.94-2.06 2.06-.94-2.06-.94L8.5 2.5l-.94 2.06-2.06.94zm10 10l.94 2.06.94-2.06 2.06-.94-2.06-.94-.94-2.06-.94 2.06-2.06.94z\"/><path d=\"M17.41 7.96l-1.37-1.37c-.4-.4-.92-.59-1.43-.59-.52 0-1.04.2-1.43.59L10.3 9.45l-7.72 7.72c-.78.78-.78 2.05 0 2.83L4 21.41c.39.39.9.59 1.41.59.51 0 1.02-.2 1.41-.59l7.78-7.78 2.81-2.81c.8-.78.8-2.07 0-2.86zM5.41 20L4 18.59l7.72-7.72 1.47 1.35L5.41 20z\"/>\n",
              "  </svg>\n",
              "      </button>\n",
              "      \n",
              "  <style>\n",
              "    .colab-df-container {\n",
              "      display:flex;\n",
              "      flex-wrap:wrap;\n",
              "      gap: 12px;\n",
              "    }\n",
              "\n",
              "    .colab-df-convert {\n",
              "      background-color: #E8F0FE;\n",
              "      border: none;\n",
              "      border-radius: 50%;\n",
              "      cursor: pointer;\n",
              "      display: none;\n",
              "      fill: #1967D2;\n",
              "      height: 32px;\n",
              "      padding: 0 0 0 0;\n",
              "      width: 32px;\n",
              "    }\n",
              "\n",
              "    .colab-df-convert:hover {\n",
              "      background-color: #E2EBFA;\n",
              "      box-shadow: 0px 1px 2px rgba(60, 64, 67, 0.3), 0px 1px 3px 1px rgba(60, 64, 67, 0.15);\n",
              "      fill: #174EA6;\n",
              "    }\n",
              "\n",
              "    [theme=dark] .colab-df-convert {\n",
              "      background-color: #3B4455;\n",
              "      fill: #D2E3FC;\n",
              "    }\n",
              "\n",
              "    [theme=dark] .colab-df-convert:hover {\n",
              "      background-color: #434B5C;\n",
              "      box-shadow: 0px 1px 3px 1px rgba(0, 0, 0, 0.15);\n",
              "      filter: drop-shadow(0px 1px 2px rgba(0, 0, 0, 0.3));\n",
              "      fill: #FFFFFF;\n",
              "    }\n",
              "  </style>\n",
              "\n",
              "      <script>\n",
              "        const buttonEl =\n",
              "          document.querySelector('#df-23a229c4-bbf8-4c1f-a8aa-97a6b8205ebc button.colab-df-convert');\n",
              "        buttonEl.style.display =\n",
              "          google.colab.kernel.accessAllowed ? 'block' : 'none';\n",
              "\n",
              "        async function convertToInteractive(key) {\n",
              "          const element = document.querySelector('#df-23a229c4-bbf8-4c1f-a8aa-97a6b8205ebc');\n",
              "          const dataTable =\n",
              "            await google.colab.kernel.invokeFunction('convertToInteractive',\n",
              "                                                     [key], {});\n",
              "          if (!dataTable) return;\n",
              "\n",
              "          const docLinkHtml = 'Like what you see? Visit the ' +\n",
              "            '<a target=\"_blank\" href=https://colab.research.google.com/notebooks/data_table.ipynb>data table notebook</a>'\n",
              "            + ' to learn more about interactive tables.';\n",
              "          element.innerHTML = '';\n",
              "          dataTable['output_type'] = 'display_data';\n",
              "          await google.colab.output.renderOutput(dataTable, element);\n",
              "          const docLink = document.createElement('div');\n",
              "          docLink.innerHTML = docLinkHtml;\n",
              "          element.appendChild(docLink);\n",
              "        }\n",
              "      </script>\n",
              "    </div>\n",
              "  </div>\n",
              "  "
            ]
          },
          "metadata": {},
          "execution_count": 74
        }
      ]
    },
    {
      "cell_type": "code",
      "source": [
        "#printing number of rows and columns \n",
        "dataset.shape"
      ],
      "metadata": {
        "colab": {
          "base_uri": "https://localhost:8080/"
        },
        "id": "U2zU55NbS0dK",
        "outputId": "0ad9302d-5e52-4460-fdcd-e0f485553837"
      },
      "execution_count": null,
      "outputs": [
        {
          "output_type": "execute_result",
          "data": {
            "text/plain": [
              "(1599, 12)"
            ]
          },
          "metadata": {},
          "execution_count": 75
        }
      ]
    },
    {
      "cell_type": "code",
      "source": [
        "#to check the null values\n",
        "dataset.isnull().sum()"
      ],
      "metadata": {
        "id": "vbARgMYaT9KZ",
        "colab": {
          "base_uri": "https://localhost:8080/"
        },
        "outputId": "641cb701-7cc5-49c2-be97-95cecbf23b1b"
      },
      "execution_count": null,
      "outputs": [
        {
          "output_type": "execute_result",
          "data": {
            "text/plain": [
              "fixed acidity           0\n",
              "volatile acidity        0\n",
              "citric acid             0\n",
              "residual sugar          0\n",
              "chlorides               0\n",
              "free sulfur dioxide     0\n",
              "total sulfur dioxide    0\n",
              "density                 0\n",
              "pH                      0\n",
              "sulphates               0\n",
              "alcohol                 0\n",
              "quality                 0\n",
              "dtype: int64"
            ]
          },
          "metadata": {},
          "execution_count": 76
        }
      ]
    },
    {
      "cell_type": "code",
      "source": [
        "# to check the unique values of the column - quality\n",
        "dataset['quality'].unique()"
      ],
      "metadata": {
        "colab": {
          "base_uri": "https://localhost:8080/"
        },
        "id": "BzhuUXB3Vtsw",
        "outputId": "1b981ac2-62c7-45c4-8cd3-905fd8c8e475"
      },
      "execution_count": null,
      "outputs": [
        {
          "output_type": "execute_result",
          "data": {
            "text/plain": [
              "array([5, 6, 7, 4, 8, 3])"
            ]
          },
          "metadata": {},
          "execution_count": 77
        }
      ]
    },
    {
      "cell_type": "code",
      "source": [
        "# to check the distribution of data with reference to above\n",
        "dataset.quality.value_counts().sort_index()"
      ],
      "metadata": {
        "colab": {
          "base_uri": "https://localhost:8080/"
        },
        "id": "U5jNGmqLV9A1",
        "outputId": "e38a9237-a704-44e6-d238-1929aa773aa5"
      },
      "execution_count": null,
      "outputs": [
        {
          "output_type": "execute_result",
          "data": {
            "text/plain": [
              "3     10\n",
              "4     53\n",
              "5    681\n",
              "6    638\n",
              "7    199\n",
              "8     18\n",
              "Name: quality, dtype: int64"
            ]
          },
          "metadata": {},
          "execution_count": 78
        }
      ]
    },
    {
      "cell_type": "code",
      "source": [
        "sns.countplot(x='quality', data=dataset)"
      ],
      "metadata": {
        "colab": {
          "base_uri": "https://localhost:8080/",
          "height": 296
        },
        "id": "biV-c8K0WQP9",
        "outputId": "5b53e3e8-ee10-42a6-b221-57fcebe7e199"
      },
      "execution_count": null,
      "outputs": [
        {
          "output_type": "execute_result",
          "data": {
            "text/plain": [
              "<matplotlib.axes._subplots.AxesSubplot at 0x7f273ea85c40>"
            ]
          },
          "metadata": {},
          "execution_count": 79
        },
        {
          "output_type": "display_data",
          "data": {
            "text/plain": [
              "<Figure size 432x288 with 1 Axes>"
            ],
            "image/png": "[encoded data removed]"
          },
          "metadata": {
            "needs_background": "light"
          }
        }
      ]
    },
    {
      "cell_type": "markdown",
      "source": [
        "From the plot we can observe that the quality range is between 3 to 8 so for better understanding we can create a new categorical feature - rating, where \n",
        "poor: 1-4\n",
        "average: 5-6\n",
        "good: 7-10\n"
      ],
      "metadata": {
        "id": "gjqm1n-4WqyJ"
      }
    },
    {
      "cell_type": "code",
      "source": [
        "conditions = [\n",
        "    (dataset['quality'] >= 7),\n",
        "    (dataset['quality'] <= 4)\n",
        "]\n",
        "rating = ['good', 'poor']\n",
        "dataset['rating'] = np.select(conditions, rating, default='average')\n",
        "dataset.rating.value_counts()"
      ],
      "metadata": {
        "colab": {
          "base_uri": "https://localhost:8080/"
        },
        "id": "lP32MWVhXteZ",
        "outputId": "06b87da6-9a27-4c2e-8607-b56039bbe28b"
      },
      "execution_count": null,
      "outputs": [
        {
          "output_type": "execute_result",
          "data": {
            "text/plain": [
              "average    1319\n",
              "good        217\n",
              "poor         63\n",
              "Name: rating, dtype: int64"
            ]
          },
          "metadata": {},
          "execution_count": 80
        }
      ]
    },
    {
      "cell_type": "code",
      "source": [
        "dataset.groupby('rating').mean()"
      ],
      "metadata": {
        "colab": {
          "base_uri": "https://localhost:8080/",
          "height": 175
        },
        "id": "8a4vS29XXYtx",
        "outputId": "11d80e9d-da2a-495a-c830-88e2dec36fe6"
      },
      "execution_count": null,
      "outputs": [
        {
          "output_type": "execute_result",
          "data": {
            "text/plain": [
              "         fixed acidity  volatile acidity  citric acid  residual sugar  \\\n",
              "rating                                                                  \n",
              "average       8.254284          0.538560     0.258264        2.503867   \n",
              "good          8.847005          0.405530     0.376498        2.708756   \n",
              "poor          7.871429          0.724206     0.173651        2.684921   \n",
              "\n",
              "         chlorides  free sulfur dioxide  total sulfur dioxide   density  \\\n",
              "rating                                                                    \n",
              "average   0.088973            16.368461             48.946929  0.996867   \n",
              "good      0.075912            13.981567             34.889401  0.996030   \n",
              "poor      0.095730            12.063492             34.444444  0.996689   \n",
              "\n",
              "               pH  sulphates    alcohol   quality  \n",
              "rating                                             \n",
              "average  3.311296   0.647263  10.252717  5.483700  \n",
              "good     3.288802   0.743456  11.518049  7.082949  \n",
              "poor     3.384127   0.592222  10.215873  3.841270  "
            ],
            "text/html": [
              "\n",
              "  <div id=\"df-fe7d20a1-66f2-4efc-b203-4d7e8f13f773\">\n",
              "    <div class=\"colab-df-container\">\n",
              "      <div>\n",
              "<style scoped>\n",
              "    .dataframe tbody tr th:only-of-type {\n",
              "        vertical-align: middle;\n",
              "    }\n",
              "\n",
              "    .dataframe tbody tr th {\n",
              "        vertical-align: top;\n",
              "    }\n",
              "\n",
              "    .dataframe thead th {\n",
              "        text-align: right;\n",
              "    }\n",
              "</style>\n",
              "<table border=\"1\" class=\"dataframe\">\n",
              "  <thead>\n",
              "    <tr style=\"text-align: right;\">\n",
              "      <th></th>\n",
              "      <th>fixed acidity</th>\n",
              "      <th>volatile acidity</th>\n",
              "      <th>citric acid</th>\n",
              "      <th>residual sugar</th>\n",
              "      <th>chlorides</th>\n",
              "      <th>free sulfur dioxide</th>\n",
              "      <th>total sulfur dioxide</th>\n",
              "      <th>density</th>\n",
              "      <th>pH</th>\n",
              "      <th>sulphates</th>\n",
              "      <th>alcohol</th>\n",
              "      <th>quality</th>\n",
              "    </tr>\n",
              "    <tr>\n",
              "      <th>rating</th>\n",
              "      <th></th>\n",
              "      <th></th>\n",
              "      <th></th>\n",
              "      <th></th>\n",
              "      <th></th>\n",
              "      <th></th>\n",
              "      <th></th>\n",
              "      <th></th>\n",
              "      <th></th>\n",
              "      <th></th>\n",
              "      <th></th>\n",
              "      <th></th>\n",
              "    </tr>\n",
              "  </thead>\n",
              "  <tbody>\n",
              "    <tr>\n",
              "      <th>average</th>\n",
              "      <td>8.254284</td>\n",
              "      <td>0.538560</td>\n",
              "      <td>0.258264</td>\n",
              "      <td>2.503867</td>\n",
              "      <td>0.088973</td>\n",
              "      <td>16.368461</td>\n",
              "      <td>48.946929</td>\n",
              "      <td>0.996867</td>\n",
              "      <td>3.311296</td>\n",
              "      <td>0.647263</td>\n",
              "      <td>10.252717</td>\n",
              "      <td>5.483700</td>\n",
              "    </tr>\n",
              "    <tr>\n",
              "      <th>good</th>\n",
              "      <td>8.847005</td>\n",
              "      <td>0.405530</td>\n",
              "      <td>0.376498</td>\n",
              "      <td>2.708756</td>\n",
              "      <td>0.075912</td>\n",
              "      <td>13.981567</td>\n",
              "      <td>34.889401</td>\n",
              "      <td>0.996030</td>\n",
              "      <td>3.288802</td>\n",
              "      <td>0.743456</td>\n",
              "      <td>11.518049</td>\n",
              "      <td>7.082949</td>\n",
              "    </tr>\n",
              "    <tr>\n",
              "      <th>poor</th>\n",
              "      <td>7.871429</td>\n",
              "      <td>0.724206</td>\n",
              "      <td>0.173651</td>\n",
              "      <td>2.684921</td>\n",
              "      <td>0.095730</td>\n",
              "      <td>12.063492</td>\n",
              "      <td>34.444444</td>\n",
              "      <td>0.996689</td>\n",
              "      <td>3.384127</td>\n",
              "      <td>0.592222</td>\n",
              "      <td>10.215873</td>\n",
              "      <td>3.841270</td>\n",
              "    </tr>\n",
              "  </tbody>\n",
              "</table>\n",
              "</div>\n",
              "      <button class=\"colab-df-convert\" onclick=\"convertToInteractive('df-fe7d20a1-66f2-4efc-b203-4d7e8f13f773')\"\n",
              "              title=\"Convert this dataframe to an interactive table.\"\n",
              "              style=\"display:none;\">\n",
              "        \n",
              "  <svg xmlns=\"http://www.w3.org/2000/svg\" height=\"24px\"viewBox=\"0 0 24 24\"\n",
              "       width=\"24px\">\n",
              "    <path d=\"M0 0h24v24H0V0z\" fill=\"none\"/>\n",
              "    <path d=\"M18.56 5.44l.94 2.06.94-2.06 2.06-.94-2.06-.94-.94-2.06-.94 2.06-2.06.94zm-11 1L8.5 8.5l.94-2.06 2.06-.94-2.06-.94L8.5 2.5l-.94 2.06-2.06.94zm10 10l.94 2.06.94-2.06 2.06-.94-2.06-.94-.94-2.06-.94 2.06-2.06.94z\"/><path d=\"M17.41 7.96l-1.37-1.37c-.4-.4-.92-.59-1.43-.59-.52 0-1.04.2-1.43.59L10.3 9.45l-7.72 7.72c-.78.78-.78 2.05 0 2.83L4 21.41c.39.39.9.59 1.41.59.51 0 1.02-.2 1.41-.59l7.78-7.78 2.81-2.81c.8-.78.8-2.07 0-2.86zM5.41 20L4 18.59l7.72-7.72 1.47 1.35L5.41 20z\"/>\n",
              "  </svg>\n",
              "      </button>\n",
              "      \n",
              "  <style>\n",
              "    .colab-df-container {\n",
              "      display:flex;\n",
              "      flex-wrap:wrap;\n",
              "      gap: 12px;\n",
              "    }\n",
              "\n",
              "    .colab-df-convert {\n",
              "      background-color: #E8F0FE;\n",
              "      border: none;\n",
              "      border-radius: 50%;\n",
              "      cursor: pointer;\n",
              "      display: none;\n",
              "      fill: #1967D2;\n",
              "      height: 32px;\n",
              "      padding: 0 0 0 0;\n",
              "      width: 32px;\n",
              "    }\n",
              "\n",
              "    .colab-df-convert:hover {\n",
              "      background-color: #E2EBFA;\n",
              "      box-shadow: 0px 1px 2px rgba(60, 64, 67, 0.3), 0px 1px 3px 1px rgba(60, 64, 67, 0.15);\n",
              "      fill: #174EA6;\n",
              "    }\n",
              "\n",
              "    [theme=dark] .colab-df-convert {\n",
              "      background-color: #3B4455;\n",
              "      fill: #D2E3FC;\n",
              "    }\n",
              "\n",
              "    [theme=dark] .colab-df-convert:hover {\n",
              "      background-color: #434B5C;\n",
              "      box-shadow: 0px 1px 3px 1px rgba(0, 0, 0, 0.15);\n",
              "      filter: drop-shadow(0px 1px 2px rgba(0, 0, 0, 0.3));\n",
              "      fill: #FFFFFF;\n",
              "    }\n",
              "  </style>\n",
              "\n",
              "      <script>\n",
              "        const buttonEl =\n",
              "          document.querySelector('#df-fe7d20a1-66f2-4efc-b203-4d7e8f13f773 button.colab-df-convert');\n",
              "        buttonEl.style.display =\n",
              "          google.colab.kernel.accessAllowed ? 'block' : 'none';\n",
              "\n",
              "        async function convertToInteractive(key) {\n",
              "          const element = document.querySelector('#df-fe7d20a1-66f2-4efc-b203-4d7e8f13f773');\n",
              "          const dataTable =\n",
              "            await google.colab.kernel.invokeFunction('convertToInteractive',\n",
              "                                                     [key], {});\n",
              "          if (!dataTable) return;\n",
              "\n",
              "          const docLinkHtml = 'Like what you see? Visit the ' +\n",
              "            '<a target=\"_blank\" href=https://colab.research.google.com/notebooks/data_table.ipynb>data table notebook</a>'\n",
              "            + ' to learn more about interactive tables.';\n",
              "          element.innerHTML = '';\n",
              "          dataTable['output_type'] = 'display_data';\n",
              "          await google.colab.output.renderOutput(dataTable, element);\n",
              "          const docLink = document.createElement('div');\n",
              "          docLink.innerHTML = docLinkHtml;\n",
              "          element.appendChild(docLink);\n",
              "        }\n",
              "      </script>\n",
              "    </div>\n",
              "  </div>\n",
              "  "
            ]
          },
          "metadata": {},
          "execution_count": 81
        }
      ]
    },
    {
      "cell_type": "code",
      "source": [
        "# to check corelation between the features lets plot a heat map\n",
        "correlation = dataset.corr()\n",
        "plt.figure(figsize=(12, 5))\n",
        "sns.heatmap(correlation, annot=True, linewidths=0, vmin=-1, cmap=\"RdBu_r\")"
      ],
      "metadata": {
        "colab": {
          "base_uri": "https://localhost:8080/",
          "height": 425
        },
        "id": "lAmvNM6UZFaG",
        "outputId": "b3a9eed5-6156-4e9a-a01f-6f6e296a88cd"
      },
      "execution_count": null,
      "outputs": [
        {
          "output_type": "execute_result",
          "data": {
            "text/plain": [
              "<matplotlib.axes._subplots.AxesSubplot at 0x7f27382e0c70>"
            ]
          },
          "metadata": {},
          "execution_count": 82
        },
        {
          "output_type": "display_data",
          "data": {
            "text/plain": [
              "<Figure size 864x360 with 2 Axes>"
            ],
            "image/png": "[encoded data removed]"
          },
          "metadata": {
            "needs_background": "light"
          }
        }
      ]
    },
    {
      "cell_type": "markdown",
      "source": [
        "Sorting the values in order to find out the columns which the highly co-related."
      ],
      "metadata": {
        "id": "zPWtt-jVZaLO"
      }
    },
    {
      "cell_type": "code",
      "source": [
        "correlation['quality'].sort_values(ascending=False)"
      ],
      "metadata": {
        "colab": {
          "base_uri": "https://localhost:8080/"
        },
        "id": "U7BtOdZSZqi6",
        "outputId": "3572dc4f-7a07-41d6-cac6-7dd3828df773"
      },
      "execution_count": null,
      "outputs": [
        {
          "output_type": "execute_result",
          "data": {
            "text/plain": [
              "quality                 1.000000\n",
              "alcohol                 0.476166\n",
              "sulphates               0.251397\n",
              "citric acid             0.226373\n",
              "fixed acidity           0.124052\n",
              "residual sugar          0.013732\n",
              "free sulfur dioxide    -0.050656\n",
              "pH                     -0.057731\n",
              "chlorides              -0.128907\n",
              "density                -0.174919\n",
              "total sulfur dioxide   -0.185100\n",
              "volatile acidity       -0.390558\n",
              "Name: quality, dtype: float64"
            ]
          },
          "metadata": {},
          "execution_count": 83
        }
      ]
    },
    {
      "cell_type": "markdown",
      "source": [
        "we can notice that the columns - alcohol, sulphates, citric acid and fixed acidity are highly related as compared to others so we will use these features for further analysis."
      ],
      "metadata": {
        "id": "bxuG6iS6Zuwh"
      }
    },
    {
      "cell_type": "code",
      "source": [
        "# to check the Alcohol percentage with the rating of wine:\n",
        "bx = sns.boxplot(x=\"rating\", y='alcohol', data = dataset)\n",
        "bx.set(xlabel='Wine Rating', ylabel='Percentaage of Alcohol', title='Alcohol vs Rating')\n"
      ],
      "metadata": {
        "colab": {
          "base_uri": "https://localhost:8080/",
          "height": 347
        },
        "id": "KOTMHIPYaGvR",
        "outputId": "dbd14d77-97f1-4020-8ebf-c6a851fbce7b"
      },
      "execution_count": null,
      "outputs": [
        {
          "output_type": "execute_result",
          "data": {
            "text/plain": [
              "[Text(0, 0.5, 'Percentaage of Alcohol'),\n",
              " Text(0.5, 0, 'Wine Rating'),\n",
              " Text(0.5, 1.0, 'Alcohol vs Rating')]"
            ]
          },
          "metadata": {},
          "execution_count": 84
        },
        {
          "output_type": "display_data",
          "data": {
            "text/plain": [
              "<Figure size 432x288 with 1 Axes>"
            ],
            "image/png": "[encoded data removed]"
          },
          "metadata": {
            "needs_background": "light"
          }
        }
      ]
    },
    {
      "cell_type": "markdown",
      "source": [
        "Now we will analyse the wine rating with respect to sulphates"
      ],
      "metadata": {
        "id": "wb5IrJ_5dyAE"
      }
    },
    {
      "cell_type": "code",
      "source": [
        "bx = sns.boxplot(x=\"rating\", y='sulphates', data = dataset)\n",
        "bx.set(xlabel='Wine Ratings', ylabel='Sulphates', title='Sulphates v/s Wine ratings')"
      ],
      "metadata": {
        "colab": {
          "base_uri": "https://localhost:8080/",
          "height": 347
        },
        "id": "PZI9n0QXd4rz",
        "outputId": "d0a8f8bc-c5d8-426a-e53a-aff1d222a83b"
      },
      "execution_count": null,
      "outputs": [
        {
          "output_type": "execute_result",
          "data": {
            "text/plain": [
              "[Text(0, 0.5, 'Sulphates'),\n",
              " Text(0.5, 0, 'Wine Ratings'),\n",
              " Text(0.5, 1.0, 'Sulphates v/s Wine ratings')]"
            ]
          },
          "metadata": {},
          "execution_count": 85
        },
        {
          "output_type": "display_data",
          "data": {
            "text/plain": [
              "<Figure size 432x288 with 1 Axes>"
            ],
            "image/png": "[encoded data removed]"
          },
          "metadata": {
            "needs_background": "light"
          }
        }
      ]
    },
    {
      "cell_type": "markdown",
      "source": [
        "# Now we will check citric acid with respect to wine ratings"
      ],
      "metadata": {
        "id": "ai_3HLxvb2OY"
      }
    },
    {
      "cell_type": "code",
      "source": [
        "bx = sns.boxplot(x=\"rating\", y='citric acid', data = dataset)\n",
        "bx.set(xlabel='Wine Ratings', ylabel='Citric Acid', title='Citric acid v/s Wine ratings') "
      ],
      "metadata": {
        "colab": {
          "base_uri": "https://localhost:8080/",
          "height": 347
        },
        "id": "cICiEXmpc2EN",
        "outputId": "a44df8cb-0029-4264-acc8-641b27f27f58"
      },
      "execution_count": null,
      "outputs": [
        {
          "output_type": "execute_result",
          "data": {
            "text/plain": [
              "[Text(0, 0.5, 'Citric Acid'),\n",
              " Text(0.5, 0, 'Wine Ratings'),\n",
              " Text(0.5, 1.0, 'Citric acid v/s Wine ratings')]"
            ]
          },
          "metadata": {},
          "execution_count": 86
        },
        {
          "output_type": "display_data",
          "data": {
            "text/plain": [
              "<Figure size 432x288 with 1 Axes>"
            ],
            "image/png": "[encoded data removed]"
          },
          "metadata": {
            "needs_background": "light"
          }
        }
      ]
    },
    {
      "cell_type": "markdown",
      "source": [
        "MODELLING"
      ],
      "metadata": {
        "id": "KBP40RXtgMgF"
      }
    },
    {
      "cell_type": "code",
      "source": [
        "from sklearn.preprocessing import MinMaxScaler\n",
        "sc = MinMaxScaler()\n",
        "X_scaled = sc.fit_transform(X)"
      ],
      "metadata": {
        "id": "M1kKcttYgrR1"
      },
      "execution_count": null,
      "outputs": []
    },
    {
      "cell_type": "code",
      "source": [],
      "metadata": {
        "id": "Zi1425ZQoh9B"
      },
      "execution_count": null,
      "outputs": []
    },
    {
      "cell_type": "code",
      "source": [
        "#Splitting the data into train test split\n",
        "from sklearn.model_selection import train_test_split\n",
        "X_train, X_test, y_train, y_test = train_test_split(X_scaled, y, test_size=0.25, random_state=0)\n",
        "print(\"Number of samples in training set:\", X_train.shape[0])\n",
        "print(\"Number of samples in testing set:\", X_test.shape[0])"
      ],
      "metadata": {
        "colab": {
          "base_uri": "https://localhost:8080/"
        },
        "id": "oWQeqdxEhu69",
        "outputId": "af81666d-777e-4aac-cade-d33bf44956d3"
      },
      "execution_count": null,
      "outputs": [
        {
          "output_type": "stream",
          "name": "stdout",
          "text": [
            "Number of samples in training set: 1199\n",
            "Number of samples in testing set: 400\n"
          ]
        }
      ]
    },
    {
      "cell_type": "code",
      "source": [
        "# Fitting and Predicting the model\n",
        "from sklearn.tree import DecisionTreeClassifier\n",
        "model = DecisionTreeClassifier(random_state=0)\n",
        "model.fit(X_train, y_train)\n",
        "y_pred = model.predict(X_test)"
      ],
      "metadata": {
        "id": "aG7zvsXIh1Z6"
      },
      "execution_count": null,
      "outputs": []
    },
    {
      "cell_type": "code",
      "source": [
        "# Finding the Accuracy score\n",
        "from sklearn.metrics import accuracy_score\n",
        "score = accuracy_score(y_pred, y_test)\n",
        "print(\"Accuracy\", score)"
      ],
      "metadata": {
        "colab": {
          "base_uri": "https://localhost:8080/"
        },
        "id": "eNaT-_RQh5_P",
        "outputId": "ca0b86cc-18b1-4c1e-efc8-62543a4c2c18"
      },
      "execution_count": null,
      "outputs": [
        {
          "output_type": "stream",
          "name": "stdout",
          "text": [
            "Accuracy 0.9075\n"
          ]
        }
      ]
    },
    {
      "cell_type": "code",
      "source": [
        "from keras.models import Sequential\n",
        " \n",
        "# Import `Dense` from `keras.layers`\n",
        "from keras.layers import Dense\n",
        " \n",
        "# Initialize the constructor\n",
        "model = Sequential()\n",
        " \n",
        "# Add an input layer\n",
        "model.add(Dense(12, activation ='relu', input_shape =(11, )))\n",
        " \n",
        "# Add one hidden layer\n",
        "model.add(Dense(9, activation ='relu'))\n",
        " \n",
        "# Add an output layer\n",
        "model.add(Dense(1, activation ='sigmoid'))\n",
        " \n",
        "# Model output shape\n",
        "model.output_shape\n",
        " \n",
        "# Model summary\n",
        "model.summary()\n",
        " \n",
        "# Model config\n",
        "model.get_config()"
      ],
      "metadata": {
        "colab": {
          "base_uri": "https://localhost:8080/"
        },
        "id": "4qhpqDCGl3RW",
        "outputId": "5c621c12-1c1f-4ae8-fe46-3799521c466b"
      },
      "execution_count": null,
      "outputs": [
        {
          "output_type": "stream",
          "name": "stdout",
          "text": [
            "Model: \"sequential_2\"\n",
            "_________________________________________________________________\n",
            " Layer (type)                Output Shape              Param #   \n",
            "=================================================================\n",
            " dense_6 (Dense)             (None, 12)                144       \n",
            "                                                                 \n",
            " dense_7 (Dense)             (None, 9)                 117       \n",
            "                                                                 \n",
            " dense_8 (Dense)             (None, 1)                 10        \n",
            "                                                                 \n",
            "=================================================================\n",
            "Total params: 271\n",
            "Trainable params: 271\n",
            "Non-trainable params: 0\n",
            "_________________________________________________________________\n"
          ]
        },
        {
          "output_type": "execute_result",
          "data": {
            "text/plain": [
              "{'name': 'sequential_2',\n",
              " 'layers': [{'class_name': 'InputLayer',\n",
              "   'config': {'batch_input_shape': (None, 11),\n",
              "    'dtype': 'float32',\n",
              "    'sparse': False,\n",
              "    'ragged': False,\n",
              "    'name': 'dense_6_input'}},\n",
              "  {'class_name': 'Dense',\n",
              "   'config': {'name': 'dense_6',\n",
              "    'trainable': True,\n",
              "    'batch_input_shape': (None, 11),\n",
              "    'dtype': 'float32',\n",
              "    'units': 12,\n",
              "    'activation': 'relu',\n",
              "    'use_bias': True,\n",
              "    'kernel_initializer': {'class_name': 'GlorotUniform',\n",
              "     'config': {'seed': None}},\n",
              "    'bias_initializer': {'class_name': 'Zeros', 'config': {}},\n",
              "    'kernel_regularizer': None,\n",
              "    'bias_regularizer': None,\n",
              "    'activity_regularizer': None,\n",
              "    'kernel_constraint': None,\n",
              "    'bias_constraint': None}},\n",
              "  {'class_name': 'Dense',\n",
              "   'config': {'name': 'dense_7',\n",
              "    'trainable': True,\n",
              "    'dtype': 'float32',\n",
              "    'units': 9,\n",
              "    'activation': 'relu',\n",
              "    'use_bias': True,\n",
              "    'kernel_initializer': {'class_name': 'GlorotUniform',\n",
              "     'config': {'seed': None}},\n",
              "    'bias_initializer': {'class_name': 'Zeros', 'config': {}},\n",
              "    'kernel_regularizer': None,\n",
              "    'bias_regularizer': None,\n",
              "    'activity_regularizer': None,\n",
              "    'kernel_constraint': None,\n",
              "    'bias_constraint': None}},\n",
              "  {'class_name': 'Dense',\n",
              "   'config': {'name': 'dense_8',\n",
              "    'trainable': True,\n",
              "    'dtype': 'float32',\n",
              "    'units': 1,\n",
              "    'activation': 'sigmoid',\n",
              "    'use_bias': True,\n",
              "    'kernel_initializer': {'class_name': 'GlorotUniform',\n",
              "     'config': {'seed': None}},\n",
              "    'bias_initializer': {'class_name': 'Zeros', 'config': {}},\n",
              "    'kernel_regularizer': None,\n",
              "    'bias_regularizer': None,\n",
              "    'activity_regularizer': None,\n",
              "    'kernel_constraint': None,\n",
              "    'bias_constraint': None}}]}"
            ]
          },
          "metadata": {},
          "execution_count": 91
        }
      ]
    },
    {
      "cell_type": "code",
      "source": [
        "# List all weight tensors\n",
        "model.get_weights()\n",
        "model.compile(loss ='binary_crossentropy',\n",
        "  optimizer ='adam', metrics =['accuracy'])"
      ],
      "metadata": {
        "id": "60b2wM0GmAVe"
      },
      "execution_count": null,
      "outputs": []
    },
    {
      "cell_type": "code",
      "source": [
        "# Training Model\n",
        "model.fit(X_train, y_train, epochs = 200,\n",
        "           batch_size = 1, verbose = 1)\n",
        "  \n",
        "# Predicting the Value\n",
        "y_pred = model.predict(X_test)\n",
        "print(y_pred)"
      ],
      "metadata": {
        "colab": {
          "base_uri": "https://localhost:8080/"
        },
        "id": "NPBET5LcmCBJ",
        "outputId": "2008283e-4c89-4036-cb6e-292ba6f41d28"
      },
      "execution_count": null,
      "outputs": [
        {
          "output_type": "stream",
          "name": "stdout",
          "text": [
            "Epoch 1/200\n",
            "1199/1199 [==============================] - 2s 2ms/step - loss: 0.4165 - accuracy: 0.8474\n",
            "Epoch 2/200\n",
            "1199/1199 [==============================] - 2s 2ms/step - loss: 0.3403 - accuracy: 0.8574\n",
            "Epoch 3/200\n",
            "1199/1199 [==============================] - 2s 2ms/step - loss: 0.3072 - accuracy: 0.8649\n",
            "Epoch 4/200\n",
            "1199/1199 [==============================] - 3s 2ms/step - loss: 0.2947 - accuracy: 0.8649\n",
            "Epoch 5/200\n",
            "1199/1199 [==============================] - 2s 2ms/step - loss: 0.2918 - accuracy: 0.8682\n",
            "Epoch 6/200\n",
            "1199/1199 [==============================] - 2s 2ms/step - loss: 0.2891 - accuracy: 0.8641\n",
            "Epoch 7/200\n",
            "1199/1199 [==============================] - 2s 2ms/step - loss: 0.2850 - accuracy: 0.8757\n",
            "Epoch 8/200\n",
            "1199/1199 [==============================] - 2s 2ms/step - loss: 0.2840 - accuracy: 0.8716\n",
            "Epoch 9/200\n",
            "1199/1199 [==============================] - 2s 2ms/step - loss: 0.2845 - accuracy: 0.8782\n",
            "Epoch 10/200\n",
            "1199/1199 [==============================] - 2s 2ms/step - loss: 0.2833 - accuracy: 0.8732\n",
            "Epoch 11/200\n",
            "1199/1199 [==============================] - 2s 2ms/step - loss: 0.2825 - accuracy: 0.8674\n",
            "Epoch 12/200\n",
            "1199/1199 [==============================] - 2s 2ms/step - loss: 0.2805 - accuracy: 0.8674\n",
            "Epoch 13/200\n",
            "1199/1199 [==============================] - 2s 2ms/step - loss: 0.2770 - accuracy: 0.8774\n",
            "Epoch 14/200\n",
            "1199/1199 [==============================] - 2s 2ms/step - loss: 0.2762 - accuracy: 0.8791\n",
            "Epoch 15/200\n",
            "1199/1199 [==============================] - 2s 2ms/step - loss: 0.2756 - accuracy: 0.8799\n",
            "Epoch 16/200\n",
            "1199/1199 [==============================] - 2s 2ms/step - loss: 0.2733 - accuracy: 0.8716\n",
            "Epoch 17/200\n",
            "1199/1199 [==============================] - 2s 2ms/step - loss: 0.2737 - accuracy: 0.8791\n",
            "Epoch 18/200\n",
            "1199/1199 [==============================] - 2s 2ms/step - loss: 0.2737 - accuracy: 0.8766\n",
            "Epoch 19/200\n",
            "1199/1199 [==============================] - 2s 2ms/step - loss: 0.2726 - accuracy: 0.8782\n",
            "Epoch 20/200\n",
            "1199/1199 [==============================] - 2s 2ms/step - loss: 0.2705 - accuracy: 0.8807\n",
            "Epoch 21/200\n",
            "1199/1199 [==============================] - 2s 2ms/step - loss: 0.2709 - accuracy: 0.8757\n",
            "Epoch 22/200\n",
            "1199/1199 [==============================] - 3s 2ms/step - loss: 0.2682 - accuracy: 0.8782\n",
            "Epoch 23/200\n",
            "1199/1199 [==============================] - 2s 2ms/step - loss: 0.2685 - accuracy: 0.8782\n",
            "Epoch 24/200\n",
            "1199/1199 [==============================] - 2s 2ms/step - loss: 0.2647 - accuracy: 0.8807\n",
            "Epoch 25/200\n",
            "1199/1199 [==============================] - 2s 2ms/step - loss: 0.2663 - accuracy: 0.8791\n",
            "Epoch 26/200\n",
            "1199/1199 [==============================] - 2s 2ms/step - loss: 0.2633 - accuracy: 0.8741\n",
            "Epoch 27/200\n",
            "1199/1199 [==============================] - 2s 2ms/step - loss: 0.2637 - accuracy: 0.8832\n",
            "Epoch 28/200\n",
            "1199/1199 [==============================] - 2s 2ms/step - loss: 0.2631 - accuracy: 0.8841\n",
            "Epoch 29/200\n",
            "1199/1199 [==============================] - 2s 2ms/step - loss: 0.2604 - accuracy: 0.8841\n",
            "Epoch 30/200\n",
            "1199/1199 [==============================] - 2s 2ms/step - loss: 0.2621 - accuracy: 0.8816\n",
            "Epoch 31/200\n",
            "1199/1199 [==============================] - 2s 2ms/step - loss: 0.2653 - accuracy: 0.8816\n",
            "Epoch 32/200\n",
            "1199/1199 [==============================] - 2s 2ms/step - loss: 0.2584 - accuracy: 0.8866\n",
            "Epoch 33/200\n",
            "1199/1199 [==============================] - 2s 2ms/step - loss: 0.2600 - accuracy: 0.8782\n",
            "Epoch 34/200\n",
            "1199/1199 [==============================] - 2s 2ms/step - loss: 0.2579 - accuracy: 0.8782\n",
            "Epoch 35/200\n",
            "1199/1199 [==============================] - 2s 2ms/step - loss: 0.2561 - accuracy: 0.8832\n",
            "Epoch 36/200\n",
            "1199/1199 [==============================] - 2s 2ms/step - loss: 0.2578 - accuracy: 0.8807\n",
            "Epoch 37/200\n",
            "1199/1199 [==============================] - 2s 2ms/step - loss: 0.2557 - accuracy: 0.8849\n",
            "Epoch 38/200\n",
            "1199/1199 [==============================] - 2s 2ms/step - loss: 0.2545 - accuracy: 0.8899\n",
            "Epoch 39/200\n",
            "1199/1199 [==============================] - 2s 2ms/step - loss: 0.2565 - accuracy: 0.8849\n",
            "Epoch 40/200\n",
            "1199/1199 [==============================] - 2s 2ms/step - loss: 0.2544 - accuracy: 0.8874\n",
            "Epoch 41/200\n",
            "1199/1199 [==============================] - 2s 2ms/step - loss: 0.2551 - accuracy: 0.8841\n",
            "Epoch 42/200\n",
            "1199/1199 [==============================] - 2s 2ms/step - loss: 0.2530 - accuracy: 0.8891\n",
            "Epoch 43/200\n",
            "1199/1199 [==============================] - 2s 2ms/step - loss: 0.2530 - accuracy: 0.8874\n",
            "Epoch 44/200\n",
            "1199/1199 [==============================] - 2s 2ms/step - loss: 0.2495 - accuracy: 0.8891\n",
            "Epoch 45/200\n",
            "1199/1199 [==============================] - 2s 2ms/step - loss: 0.2510 - accuracy: 0.8882\n",
            "Epoch 46/200\n",
            "1199/1199 [==============================] - 2s 2ms/step - loss: 0.2484 - accuracy: 0.8941\n",
            "Epoch 47/200\n",
            "1199/1199 [==============================] - 2s 2ms/step - loss: 0.2501 - accuracy: 0.8832\n",
            "Epoch 48/200\n",
            "1199/1199 [==============================] - 2s 2ms/step - loss: 0.2485 - accuracy: 0.8966\n",
            "Epoch 49/200\n",
            "1199/1199 [==============================] - 2s 2ms/step - loss: 0.2475 - accuracy: 0.8899\n",
            "Epoch 50/200\n",
            "1199/1199 [==============================] - 2s 2ms/step - loss: 0.2459 - accuracy: 0.8957\n",
            "Epoch 51/200\n",
            "1199/1199 [==============================] - 2s 2ms/step - loss: 0.2472 - accuracy: 0.8899\n",
            "Epoch 52/200\n",
            "1199/1199 [==============================] - 2s 2ms/step - loss: 0.2483 - accuracy: 0.8849\n",
            "Epoch 53/200\n",
            "1199/1199 [==============================] - 2s 2ms/step - loss: 0.2444 - accuracy: 0.8949\n",
            "Epoch 54/200\n",
            "1199/1199 [==============================] - 2s 2ms/step - loss: 0.2472 - accuracy: 0.8907\n",
            "Epoch 55/200\n",
            "1199/1199 [==============================] - 2s 2ms/step - loss: 0.2475 - accuracy: 0.8957\n",
            "Epoch 56/200\n",
            "1199/1199 [==============================] - 2s 2ms/step - loss: 0.2472 - accuracy: 0.8899\n",
            "Epoch 57/200\n",
            "1199/1199 [==============================] - 2s 2ms/step - loss: 0.2460 - accuracy: 0.8866\n",
            "Epoch 58/200\n",
            "1199/1199 [==============================] - 2s 2ms/step - loss: 0.2401 - accuracy: 0.8924\n",
            "Epoch 59/200\n",
            "1199/1199 [==============================] - 2s 2ms/step - loss: 0.2446 - accuracy: 0.8907\n",
            "Epoch 60/200\n",
            "1199/1199 [==============================] - 2s 2ms/step - loss: 0.2421 - accuracy: 0.8924\n",
            "Epoch 61/200\n",
            "1199/1199 [==============================] - 2s 2ms/step - loss: 0.2418 - accuracy: 0.8966\n",
            "Epoch 62/200\n",
            "1199/1199 [==============================] - 2s 2ms/step - loss: 0.2435 - accuracy: 0.8957\n",
            "Epoch 63/200\n",
            "1199/1199 [==============================] - 2s 2ms/step - loss: 0.2400 - accuracy: 0.8907\n",
            "Epoch 64/200\n",
            "1199/1199 [==============================] - 2s 2ms/step - loss: 0.2379 - accuracy: 0.8966\n",
            "Epoch 65/200\n",
            "1199/1199 [==============================] - 2s 2ms/step - loss: 0.2399 - accuracy: 0.9024\n",
            "Epoch 66/200\n",
            "1199/1199 [==============================] - 2s 2ms/step - loss: 0.2415 - accuracy: 0.8924\n",
            "Epoch 67/200\n",
            "1199/1199 [==============================] - 2s 2ms/step - loss: 0.2389 - accuracy: 0.8949\n",
            "Epoch 68/200\n",
            "1199/1199 [==============================] - 2s 2ms/step - loss: 0.2390 - accuracy: 0.9016\n",
            "Epoch 69/200\n",
            "1199/1199 [==============================] - 2s 2ms/step - loss: 0.2401 - accuracy: 0.8899\n",
            "Epoch 70/200\n",
            "1199/1199 [==============================] - 2s 2ms/step - loss: 0.2392 - accuracy: 0.8957\n",
            "Epoch 71/200\n",
            "1199/1199 [==============================] - 2s 2ms/step - loss: 0.2388 - accuracy: 0.8924\n",
            "Epoch 72/200\n",
            "1199/1199 [==============================] - 2s 2ms/step - loss: 0.2395 - accuracy: 0.8949\n",
            "Epoch 73/200\n",
            "1199/1199 [==============================] - 2s 2ms/step - loss: 0.2371 - accuracy: 0.8966\n",
            "Epoch 74/200\n",
            "1199/1199 [==============================] - 3s 3ms/step - loss: 0.2355 - accuracy: 0.8932\n",
            "Epoch 75/200\n",
            "1199/1199 [==============================] - 2s 2ms/step - loss: 0.2369 - accuracy: 0.8949\n",
            "Epoch 76/200\n",
            "1199/1199 [==============================] - 2s 2ms/step - loss: 0.2358 - accuracy: 0.9058\n",
            "Epoch 77/200\n",
            "1199/1199 [==============================] - 2s 2ms/step - loss: 0.2318 - accuracy: 0.8991\n",
            "Epoch 78/200\n",
            "1199/1199 [==============================] - 2s 2ms/step - loss: 0.2358 - accuracy: 0.8999\n",
            "Epoch 79/200\n",
            "1199/1199 [==============================] - 2s 2ms/step - loss: 0.2372 - accuracy: 0.8941\n",
            "Epoch 80/200\n",
            "1199/1199 [==============================] - 2s 2ms/step - loss: 0.2337 - accuracy: 0.8982\n",
            "Epoch 81/200\n",
            "1199/1199 [==============================] - 2s 2ms/step - loss: 0.2384 - accuracy: 0.8949\n",
            "Epoch 82/200\n",
            "1199/1199 [==============================] - 2s 2ms/step - loss: 0.2334 - accuracy: 0.8957\n",
            "Epoch 83/200\n",
            "1199/1199 [==============================] - 2s 2ms/step - loss: 0.2345 - accuracy: 0.8974\n",
            "Epoch 84/200\n",
            "1199/1199 [==============================] - 2s 2ms/step - loss: 0.2324 - accuracy: 0.8932\n",
            "Epoch 85/200\n",
            "1199/1199 [==============================] - 2s 2ms/step - loss: 0.2350 - accuracy: 0.8916\n",
            "Epoch 86/200\n",
            "1199/1199 [==============================] - 2s 2ms/step - loss: 0.2290 - accuracy: 0.8974\n",
            "Epoch 87/200\n",
            "1199/1199 [==============================] - 2s 2ms/step - loss: 0.2307 - accuracy: 0.8924\n",
            "Epoch 88/200\n",
            "1199/1199 [==============================] - 2s 2ms/step - loss: 0.2321 - accuracy: 0.8974\n",
            "Epoch 89/200\n",
            "1199/1199 [==============================] - 2s 2ms/step - loss: 0.2306 - accuracy: 0.8982\n",
            "Epoch 90/200\n",
            "1199/1199 [==============================] - 2s 2ms/step - loss: 0.2279 - accuracy: 0.8991\n",
            "Epoch 91/200\n",
            "1199/1199 [==============================] - 2s 2ms/step - loss: 0.2292 - accuracy: 0.9016\n",
            "Epoch 92/200\n",
            "1199/1199 [==============================] - 2s 2ms/step - loss: 0.2279 - accuracy: 0.9049\n",
            "Epoch 93/200\n",
            "1199/1199 [==============================] - 2s 2ms/step - loss: 0.2310 - accuracy: 0.8991\n",
            "Epoch 94/200\n",
            "1199/1199 [==============================] - 2s 2ms/step - loss: 0.2270 - accuracy: 0.9049\n",
            "Epoch 95/200\n",
            "1199/1199 [==============================] - 2s 2ms/step - loss: 0.2285 - accuracy: 0.9058\n",
            "Epoch 96/200\n",
            "1199/1199 [==============================] - 2s 2ms/step - loss: 0.2285 - accuracy: 0.8982\n",
            "Epoch 97/200\n",
            "1199/1199 [==============================] - 2s 2ms/step - loss: 0.2241 - accuracy: 0.9033\n",
            "Epoch 98/200\n",
            "1199/1199 [==============================] - 2s 2ms/step - loss: 0.2271 - accuracy: 0.8949\n",
            "Epoch 99/200\n",
            "1199/1199 [==============================] - 2s 2ms/step - loss: 0.2252 - accuracy: 0.9049\n",
            "Epoch 100/200\n",
            "1199/1199 [==============================] - 2s 2ms/step - loss: 0.2281 - accuracy: 0.9024\n",
            "Epoch 101/200\n",
            "1199/1199 [==============================] - 2s 2ms/step - loss: 0.2273 - accuracy: 0.8957\n",
            "Epoch 102/200\n",
            "1199/1199 [==============================] - 2s 2ms/step - loss: 0.2261 - accuracy: 0.8982\n",
            "Epoch 103/200\n",
            "1199/1199 [==============================] - 2s 2ms/step - loss: 0.2238 - accuracy: 0.8957\n",
            "Epoch 104/200\n",
            "1199/1199 [==============================] - 2s 2ms/step - loss: 0.2261 - accuracy: 0.8957\n",
            "Epoch 105/200\n",
            "1199/1199 [==============================] - 2s 2ms/step - loss: 0.2247 - accuracy: 0.9024\n",
            "Epoch 106/200\n",
            "1199/1199 [==============================] - 2s 2ms/step - loss: 0.2253 - accuracy: 0.9041\n",
            "Epoch 107/200\n",
            "1199/1199 [==============================] - 2s 2ms/step - loss: 0.2217 - accuracy: 0.8999\n",
            "Epoch 108/200\n",
            "1199/1199 [==============================] - 2s 2ms/step - loss: 0.2232 - accuracy: 0.8999\n",
            "Epoch 109/200\n",
            "1199/1199 [==============================] - 2s 2ms/step - loss: 0.2230 - accuracy: 0.9016\n",
            "Epoch 110/200\n",
            "1199/1199 [==============================] - 2s 2ms/step - loss: 0.2236 - accuracy: 0.9024\n",
            "Epoch 111/200\n",
            "1199/1199 [==============================] - 2s 2ms/step - loss: 0.2253 - accuracy: 0.9058\n",
            "Epoch 112/200\n",
            "1199/1199 [==============================] - 2s 2ms/step - loss: 0.2215 - accuracy: 0.9041\n",
            "Epoch 113/200\n",
            "1199/1199 [==============================] - 2s 2ms/step - loss: 0.2227 - accuracy: 0.8991\n",
            "Epoch 114/200\n",
            "1199/1199 [==============================] - 2s 2ms/step - loss: 0.2218 - accuracy: 0.9008\n",
            "Epoch 115/200\n",
            "1199/1199 [==============================] - 2s 2ms/step - loss: 0.2239 - accuracy: 0.8974\n",
            "Epoch 116/200\n",
            "1199/1199 [==============================] - 2s 2ms/step - loss: 0.2195 - accuracy: 0.9024\n",
            "Epoch 117/200\n",
            "1199/1199 [==============================] - 2s 2ms/step - loss: 0.2163 - accuracy: 0.9058\n",
            "Epoch 118/200\n",
            "1199/1199 [==============================] - 2s 2ms/step - loss: 0.2202 - accuracy: 0.8999\n",
            "Epoch 119/200\n",
            "1199/1199 [==============================] - 2s 2ms/step - loss: 0.2217 - accuracy: 0.8924\n",
            "Epoch 120/200\n",
            "1199/1199 [==============================] - 2s 2ms/step - loss: 0.2194 - accuracy: 0.9033\n",
            "Epoch 121/200\n",
            "1199/1199 [==============================] - 2s 2ms/step - loss: 0.2214 - accuracy: 0.8991\n",
            "Epoch 122/200\n",
            "1199/1199 [==============================] - 2s 2ms/step - loss: 0.2213 - accuracy: 0.9024\n",
            "Epoch 123/200\n",
            "1199/1199 [==============================] - 2s 2ms/step - loss: 0.2227 - accuracy: 0.9083\n",
            "Epoch 124/200\n",
            "1199/1199 [==============================] - 2s 2ms/step - loss: 0.2213 - accuracy: 0.9033\n",
            "Epoch 125/200\n",
            "1199/1199 [==============================] - 2s 2ms/step - loss: 0.2198 - accuracy: 0.9008\n",
            "Epoch 126/200\n",
            "1199/1199 [==============================] - 2s 2ms/step - loss: 0.2209 - accuracy: 0.9033\n",
            "Epoch 127/200\n",
            "1199/1199 [==============================] - 2s 2ms/step - loss: 0.2202 - accuracy: 0.9008\n",
            "Epoch 128/200\n",
            "1199/1199 [==============================] - 2s 2ms/step - loss: 0.2214 - accuracy: 0.8957\n",
            "Epoch 129/200\n",
            "1199/1199 [==============================] - 2s 2ms/step - loss: 0.2194 - accuracy: 0.8974\n",
            "Epoch 130/200\n",
            "1199/1199 [==============================] - 2s 2ms/step - loss: 0.2161 - accuracy: 0.9024\n",
            "Epoch 131/200\n",
            "1199/1199 [==============================] - 2s 2ms/step - loss: 0.2195 - accuracy: 0.9033\n",
            "Epoch 132/200\n",
            "1199/1199 [==============================] - 2s 2ms/step - loss: 0.2194 - accuracy: 0.9033\n",
            "Epoch 133/200\n",
            "1199/1199 [==============================] - 2s 2ms/step - loss: 0.2201 - accuracy: 0.9083\n",
            "Epoch 134/200\n",
            "1199/1199 [==============================] - 2s 2ms/step - loss: 0.2195 - accuracy: 0.8957\n",
            "Epoch 135/200\n",
            "1199/1199 [==============================] - 2s 2ms/step - loss: 0.2152 - accuracy: 0.9083\n",
            "Epoch 136/200\n",
            "1199/1199 [==============================] - 3s 2ms/step - loss: 0.2168 - accuracy: 0.9049\n",
            "Epoch 137/200\n",
            "1199/1199 [==============================] - 2s 2ms/step - loss: 0.2196 - accuracy: 0.9041\n",
            "Epoch 138/200\n",
            "1199/1199 [==============================] - 2s 2ms/step - loss: 0.2163 - accuracy: 0.9016\n",
            "Epoch 139/200\n",
            "1199/1199 [==============================] - 2s 2ms/step - loss: 0.2230 - accuracy: 0.8974\n",
            "Epoch 140/200\n",
            "1199/1199 [==============================] - 2s 2ms/step - loss: 0.2148 - accuracy: 0.9049\n",
            "Epoch 141/200\n",
            "1199/1199 [==============================] - 2s 2ms/step - loss: 0.2186 - accuracy: 0.8957\n",
            "Epoch 142/200\n",
            "1199/1199 [==============================] - 2s 2ms/step - loss: 0.2182 - accuracy: 0.9008\n",
            "Epoch 143/200\n",
            "1199/1199 [==============================] - 2s 2ms/step - loss: 0.2154 - accuracy: 0.9024\n",
            "Epoch 144/200\n",
            "1199/1199 [==============================] - 2s 2ms/step - loss: 0.2202 - accuracy: 0.9041\n",
            "Epoch 145/200\n",
            "1199/1199 [==============================] - 2s 2ms/step - loss: 0.2178 - accuracy: 0.9058\n",
            "Epoch 146/200\n",
            "1199/1199 [==============================] - 3s 2ms/step - loss: 0.2155 - accuracy: 0.9016\n",
            "Epoch 147/200\n",
            "1199/1199 [==============================] - 2s 2ms/step - loss: 0.2171 - accuracy: 0.9024\n",
            "Epoch 148/200\n",
            "1199/1199 [==============================] - 2s 2ms/step - loss: 0.2154 - accuracy: 0.9083\n",
            "Epoch 149/200\n",
            "1199/1199 [==============================] - 2s 2ms/step - loss: 0.2126 - accuracy: 0.9049\n",
            "Epoch 150/200\n",
            "1199/1199 [==============================] - 3s 2ms/step - loss: 0.2174 - accuracy: 0.9033\n",
            "Epoch 151/200\n",
            "1199/1199 [==============================] - 2s 2ms/step - loss: 0.2176 - accuracy: 0.9049\n",
            "Epoch 152/200\n",
            "1199/1199 [==============================] - 2s 2ms/step - loss: 0.2137 - accuracy: 0.9024\n",
            "Epoch 153/200\n",
            "1199/1199 [==============================] - 2s 2ms/step - loss: 0.2206 - accuracy: 0.9008\n",
            "Epoch 154/200\n",
            "1199/1199 [==============================] - 2s 2ms/step - loss: 0.2144 - accuracy: 0.9049\n",
            "Epoch 155/200\n",
            "1199/1199 [==============================] - 2s 2ms/step - loss: 0.2123 - accuracy: 0.9074\n",
            "Epoch 156/200\n",
            "1199/1199 [==============================] - 2s 2ms/step - loss: 0.2149 - accuracy: 0.9066\n",
            "Epoch 157/200\n",
            "1199/1199 [==============================] - 2s 2ms/step - loss: 0.2138 - accuracy: 0.8974\n",
            "Epoch 158/200\n",
            "1199/1199 [==============================] - 2s 2ms/step - loss: 0.2113 - accuracy: 0.9066\n",
            "Epoch 159/200\n",
            "1199/1199 [==============================] - 2s 2ms/step - loss: 0.2142 - accuracy: 0.8999\n",
            "Epoch 160/200\n",
            "1199/1199 [==============================] - 2s 2ms/step - loss: 0.2150 - accuracy: 0.9033\n",
            "Epoch 161/200\n",
            "1199/1199 [==============================] - 2s 2ms/step - loss: 0.2125 - accuracy: 0.9041\n",
            "Epoch 162/200\n",
            "1199/1199 [==============================] - 2s 2ms/step - loss: 0.2130 - accuracy: 0.9041\n",
            "Epoch 163/200\n",
            "1199/1199 [==============================] - 2s 2ms/step - loss: 0.2132 - accuracy: 0.9008\n",
            "Epoch 164/200\n",
            "1199/1199 [==============================] - 2s 2ms/step - loss: 0.2116 - accuracy: 0.9108\n",
            "Epoch 165/200\n",
            "1199/1199 [==============================] - 2s 2ms/step - loss: 0.2113 - accuracy: 0.9049\n",
            "Epoch 166/200\n",
            "1199/1199 [==============================] - 2s 2ms/step - loss: 0.2151 - accuracy: 0.9008\n",
            "Epoch 167/200\n",
            "1199/1199 [==============================] - 2s 2ms/step - loss: 0.2150 - accuracy: 0.9008\n",
            "Epoch 168/200\n",
            "1199/1199 [==============================] - 2s 2ms/step - loss: 0.2105 - accuracy: 0.9074\n",
            "Epoch 169/200\n",
            "1199/1199 [==============================] - 2s 2ms/step - loss: 0.2131 - accuracy: 0.9033\n",
            "Epoch 170/200\n",
            "1199/1199 [==============================] - 2s 2ms/step - loss: 0.2136 - accuracy: 0.9066\n",
            "Epoch 171/200\n",
            "1199/1199 [==============================] - 2s 2ms/step - loss: 0.2107 - accuracy: 0.9116\n",
            "Epoch 172/200\n",
            "1199/1199 [==============================] - 2s 2ms/step - loss: 0.2127 - accuracy: 0.9049\n",
            "Epoch 173/200\n",
            "1199/1199 [==============================] - 2s 2ms/step - loss: 0.2111 - accuracy: 0.9033\n",
            "Epoch 174/200\n",
            "1199/1199 [==============================] - 2s 2ms/step - loss: 0.2099 - accuracy: 0.9049\n",
            "Epoch 175/200\n",
            "1199/1199 [==============================] - 2s 2ms/step - loss: 0.2159 - accuracy: 0.9024\n",
            "Epoch 176/200\n",
            "1199/1199 [==============================] - 2s 2ms/step - loss: 0.2159 - accuracy: 0.9033\n",
            "Epoch 177/200\n",
            "1199/1199 [==============================] - 2s 2ms/step - loss: 0.2086 - accuracy: 0.9149\n",
            "Epoch 178/200\n",
            "1199/1199 [==============================] - 2s 2ms/step - loss: 0.2116 - accuracy: 0.9049\n",
            "Epoch 179/200\n",
            "1199/1199 [==============================] - 2s 2ms/step - loss: 0.2161 - accuracy: 0.8999\n",
            "Epoch 180/200\n",
            "1199/1199 [==============================] - 2s 2ms/step - loss: 0.2106 - accuracy: 0.9091\n",
            "Epoch 181/200\n",
            "1199/1199 [==============================] - 2s 2ms/step - loss: 0.2098 - accuracy: 0.9074\n",
            "Epoch 182/200\n",
            "1199/1199 [==============================] - 2s 2ms/step - loss: 0.2100 - accuracy: 0.8999\n",
            "Epoch 183/200\n",
            "1199/1199 [==============================] - 2s 2ms/step - loss: 0.2121 - accuracy: 0.9033\n",
            "Epoch 184/200\n",
            "1199/1199 [==============================] - 2s 2ms/step - loss: 0.2095 - accuracy: 0.9074\n",
            "Epoch 185/200\n",
            "1199/1199 [==============================] - 2s 2ms/step - loss: 0.2096 - accuracy: 0.9041\n",
            "Epoch 186/200\n",
            "1199/1199 [==============================] - 2s 2ms/step - loss: 0.2102 - accuracy: 0.9149\n",
            "Epoch 187/200\n",
            "1199/1199 [==============================] - 2s 2ms/step - loss: 0.2134 - accuracy: 0.9066\n",
            "Epoch 188/200\n",
            "1199/1199 [==============================] - 2s 2ms/step - loss: 0.2092 - accuracy: 0.9066\n",
            "Epoch 189/200\n",
            "1199/1199 [==============================] - 2s 2ms/step - loss: 0.2105 - accuracy: 0.8999\n",
            "Epoch 190/200\n",
            "1199/1199 [==============================] - 2s 2ms/step - loss: 0.2120 - accuracy: 0.9008\n",
            "Epoch 191/200\n",
            "1199/1199 [==============================] - 2s 2ms/step - loss: 0.2120 - accuracy: 0.9049\n",
            "Epoch 192/200\n",
            "1199/1199 [==============================] - 2s 2ms/step - loss: 0.2089 - accuracy: 0.9066\n",
            "Epoch 193/200\n",
            "1199/1199 [==============================] - 2s 2ms/step - loss: 0.2094 - accuracy: 0.9099\n",
            "Epoch 194/200\n",
            "1199/1199 [==============================] - 2s 2ms/step - loss: 0.2073 - accuracy: 0.9066\n",
            "Epoch 195/200\n",
            "1199/1199 [==============================] - 2s 2ms/step - loss: 0.2056 - accuracy: 0.9124\n",
            "Epoch 196/200\n",
            "1199/1199 [==============================] - 2s 2ms/step - loss: 0.2093 - accuracy: 0.9058\n",
            "Epoch 197/200\n",
            "  31/1199 [..............................] - ETA: 1s - loss: 0.1784 - accuracy: 0.9355    "
          ]
        }
      ]
    },
    {
      "cell_type": "code",
      "source": [
        "# Train and Test accuracy\n",
        "scores = model.evaluate(X_train,y_train)\n",
        "print(\"Training Accuracy: %.2f%%\\n\" % (scores[1]*100))\n",
        "scores = model.evaluate(X_test,y_test)\n",
        "print(\"Testing Accuracy: %.2f%%\\n\" % (scores[1]*100))"
      ],
      "metadata": {
        "id": "4SteiijNok4J"
      },
      "execution_count": null,
      "outputs": []
    },
    {
      "cell_type": "markdown",
      "source": [
        "Conclusion\n",
        "\n",
        " - From the above Analysis we can conclude that changing the 'Quality' column to 'Rating' was very helpful and we got some insights how the Quality of wine is affected by alcohol, sulphates, citric acid and fixed acidity as they are highly related as compared to others.\n",
        "\n",
        "- For wine Quality Prediction we trained two models and both performed good.\n",
        "\n"
      ],
      "metadata": {
        "id": "10brKxm0tYTq"
      }
    }
  ]
}